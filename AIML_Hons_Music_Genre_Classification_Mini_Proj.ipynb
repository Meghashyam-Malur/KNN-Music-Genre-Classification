{
  "nbformat": 4,
  "nbformat_minor": 0,
  "metadata": {
    "colab": {
      "name": "AIML_Hons_Music_Genre_Classification_Mini_Proj.ipynb",
      "provenance": [],
      "collapsed_sections": []
    },
    "kernelspec": {
      "name": "python3",
      "display_name": "Python 3"
    },
    "language_info": {
      "name": "python"
    }
  },
  "cells": [
    {
      "cell_type": "code",
      "source": [
        "!pip install python_speech_features"
      ],
      "metadata": {
        "colab": {
          "base_uri": "https://localhost:8080/",
          "height": 0
        },
        "id": "LwMqJMJ5I3kc",
        "outputId": "872a4f1b-e392-4a71-eab7-68494dc5f64e"
      },
      "execution_count": 1,
      "outputs": [
        {
          "output_type": "stream",
          "name": "stdout",
          "text": [
            "Collecting python_speech_features\n",
            "  Downloading python_speech_features-0.6.tar.gz (5.6 kB)\n",
            "Building wheels for collected packages: python-speech-features\n",
            "  Building wheel for python-speech-features (setup.py) ... \u001b[?25l\u001b[?25hdone\n",
            "  Created wheel for python-speech-features: filename=python_speech_features-0.6-py3-none-any.whl size=5888 sha256=d2cd30fe881db5f6950a906f90057ff062dd6afd6f477aaddfa6be50fb473802\n",
            "  Stored in directory: /root/.cache/pip/wheels/b0/0e/94/28cd6afa3cd5998a63eef99fe31777acd7d758f59cf24839eb\n",
            "Successfully built python-speech-features\n",
            "Installing collected packages: python-speech-features\n",
            "Successfully installed python-speech-features-0.6\n"
          ]
        }
      ]
    },
    {
      "cell_type": "code",
      "execution_count": 2,
      "metadata": {
        "id": "p2hgTxdPx0Zf"
      },
      "outputs": [],
      "source": [
        "from python_speech_features import mfcc\n",
        "import scipy.io.wavfile as wav\n",
        "import numpy as np\n",
        "\n",
        "from tempfile import TemporaryFile\n",
        "import os\n",
        "import pickle\n",
        "import random \n",
        "import operator\n",
        "\n",
        "import math\n",
        "import numpy as np"
      ]
    },
    {
      "cell_type": "code",
      "source": [
        "def distance(instance1 , instance2 , k ):\n",
        "    distance =0 \n",
        "    mm1 = instance1[0] \n",
        "    cm1 = instance1[1]\n",
        "    mm2 = instance2[0]\n",
        "    cm2 = instance2[1]\n",
        "    distance = np.trace(np.dot(np.linalg.inv(cm2), cm1)) \n",
        "    distance+=(np.dot(np.dot((mm2-mm1).transpose() , np.linalg.inv(cm2)) , mm2-mm1 )) \n",
        "    distance+= np.log(np.linalg.det(cm2)) - np.log(np.linalg.det(cm1))\n",
        "    distance-= k\n",
        "    return distance"
      ],
      "metadata": {
        "id": "1F3IWUJmQyUl"
      },
      "execution_count": 3,
      "outputs": []
    },
    {
      "cell_type": "code",
      "source": [
        "def getNeighbors(trainingSet, instance, k):\n",
        "    distances = []\n",
        "    for x in range (len(trainingSet)):\n",
        "        dist = distance(trainingSet[x], instance, k )+ distance(instance, trainingSet[x], k)\n",
        "        distances.append((trainingSet[x][2], dist))\n",
        "    distances.sort(key=operator.itemgetter(1))\n",
        "    neighbors = []\n",
        "    for x in range(k):\n",
        "        neighbors.append(distances[x][0])\n",
        "    return neighbors"
      ],
      "metadata": {
        "id": "jtwtf38sGgdq"
      },
      "execution_count": 4,
      "outputs": []
    },
    {
      "cell_type": "code",
      "source": [
        "def nearestClass(neighbors):\n",
        "    classVote = {}\n",
        "\n",
        "    for x in range(len(neighbors)):\n",
        "        response = neighbors[x]\n",
        "        if response in classVote:\n",
        "            classVote[response]+=1 \n",
        "        else:\n",
        "            classVote[response]=1\n",
        "\n",
        "    sorter = sorted(classVote.items(), key = operator.itemgetter(1), reverse=True)\n",
        "    return sorter[0][0]"
      ],
      "metadata": {
        "id": "y4249N1dGjpz"
      },
      "execution_count": 5,
      "outputs": []
    },
    {
      "cell_type": "code",
      "source": [
        "def getAccuracy(testSet, predictions):\n",
        "    correct = 0 \n",
        "    for x in range (len(testSet)):\n",
        "        if testSet[x][-1]==predictions[x]:\n",
        "            correct+=1\n",
        "    return 1.0*correct/len(testSet)"
      ],
      "metadata": {
        "id": "CglJuXhLGlUR"
      },
      "execution_count": 6,
      "outputs": []
    },
    {
      "cell_type": "code",
      "source": [
        "from google.colab import drive\n",
        "drive.mount('/content/drive/')"
      ],
      "metadata": {
        "colab": {
          "base_uri": "https://localhost:8080/",
          "height": 0
        },
        "id": "7sUI1XkqJSfL",
        "outputId": "abedeec6-4333-4fc0-86f9-8a70599f468d"
      },
      "execution_count": 7,
      "outputs": [
        {
          "output_type": "stream",
          "name": "stdout",
          "text": [
            "Mounted at /content/drive/\n"
          ]
        }
      ]
    },
    {
      "cell_type": "code",
      "source": [
        "%cd /content/drive/MyDrive/Colab_Notebooks/AIML_Hons/"
      ],
      "metadata": {
        "colab": {
          "base_uri": "https://localhost:8080/",
          "height": 0
        },
        "id": "qBkpehBZzDQn",
        "outputId": "17e931ef-b4d2-4d57-96a1-b378ffcdf7c7"
      },
      "execution_count": 8,
      "outputs": [
        {
          "output_type": "stream",
          "name": "stdout",
          "text": [
            "/content/drive/MyDrive/Colab_Notebooks/AIML_Hons\n"
          ]
        }
      ]
    },
    {
      "cell_type": "code",
      "source": [
        "directory = \"/content/drive/MyDrive/Colab_Notebooks/AIML_Hons/Data/genres_original/\"\n",
        "f= open(\"my.dat\" ,'wb')\n",
        "i=0\n",
        "\n",
        "for folder in os.listdir(directory):\n",
        "    i+=1\n",
        "    if i==11 :\n",
        "        break   \n",
        "    for file in os.listdir(directory+folder):  \n",
        "        (rate,sig) = wav.read(directory+folder+\"/\"+file)\n",
        "        mfcc_feat = mfcc(sig,rate ,winlen=0.020, appendEnergy = False)\n",
        "        covariance = np.cov(np.matrix.transpose(mfcc_feat))\n",
        "        mean_matrix = mfcc_feat.mean(0)\n",
        "        feature = (mean_matrix , covariance , i)\n",
        "        pickle.dump(feature , f)\n",
        "\n",
        "f.close()"
      ],
      "metadata": {
        "id": "mEo-BjOfGrUH"
      },
      "execution_count": 10,
      "outputs": []
    },
    {
      "cell_type": "code",
      "source": [
        "dataset = []\n",
        "def loadDataset(filename , split , trSet , teSet):\n",
        "    with open(\"my.dat\" , 'rb') as f:\n",
        "        while True:\n",
        "            try:\n",
        "                dataset.append(pickle.load(f))\n",
        "            except EOFError:\n",
        "                f.close()\n",
        "                break  \n",
        "\n",
        "    for x in range(len(dataset)):\n",
        "        if random.random() <split :      \n",
        "            trSet.append(dataset[x])\n",
        "        else:\n",
        "            teSet.append(dataset[x])  \n",
        "\n",
        "trainingSet = []\n",
        "testSet = []\n",
        "loadDataset(\"my.dat\" , 0.66, trainingSet, testSet)"
      ],
      "metadata": {
        "id": "r4TFJbfRG1nC"
      },
      "execution_count": 13,
      "outputs": []
    },
    {
      "cell_type": "code",
      "source": [
        "leng = len(testSet)\n",
        "predictions = []\n",
        "for x in range (leng):\n",
        "    predictions.append(nearestClass(getNeighbors(trainingSet ,testSet[x] , 5))) \n",
        "\n",
        "accuracy1 = getAccuracy(testSet , predictions)\n",
        "print(accuracy1)"
      ],
      "metadata": {
        "id": "nqDMj-bkG2-R",
        "colab": {
          "base_uri": "https://localhost:8080/",
          "height": 0
        },
        "outputId": "6d14e7a9-dee1-4b4a-c1da-7f9e294a3e21"
      },
      "execution_count": 15,
      "outputs": [
        {
          "output_type": "stream",
          "name": "stdout",
          "text": [
            "0.6835820895522388\n"
          ]
        }
      ]
    },
    {
      "cell_type": "code",
      "source": [
        "!pwd"
      ],
      "metadata": {
        "colab": {
          "base_uri": "https://localhost:8080/",
          "height": 0
        },
        "id": "9V6veyxJyl1v",
        "outputId": "f0a13df6-c2f1-4b25-d475-bf4fff57488e"
      },
      "execution_count": 16,
      "outputs": [
        {
          "output_type": "stream",
          "name": "stdout",
          "text": [
            "/content/drive/MyDrive/Colab_Notebooks/AIML_Hons\n"
          ]
        }
      ]
    },
    {
      "cell_type": "code",
      "source": [
        "!python /content/drive/MyDrive/Colab_Notebooks/AIML_Hons/test.py"
      ],
      "metadata": {
        "colab": {
          "base_uri": "https://localhost:8080/",
          "height": 0
        },
        "id": "yJzPzjccUGIG",
        "outputId": "d3c7db14-4749-4166-f33e-9ade65b71d74"
      },
      "execution_count": 17,
      "outputs": [
        {
          "output_type": "stream",
          "name": "stdout",
          "text": [
            "defaultdict(<class 'int'>, {1: 'hiphop', 2: 'blues', 3: 'disco', 4: 'pop', 5: 'rock', 6: 'country', 7: 'jazz', 8: 'reggae', 9: 'metal', 10: 'classical'})\n",
            "WARNING:root:frame length (882) is greater than FFT size (512), frame will be truncated. Increase NFFT to avoid.\n",
            "result: pop\n"
          ]
        }
      ]
    }
  ]
}